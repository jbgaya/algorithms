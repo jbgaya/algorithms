{
 "cells": [
  {
   "cell_type": "markdown",
   "metadata": {},
   "source": [
    "## Merge Sort\n",
    "\n",
    "Merge Sort is a divide-and-conquer algorithm that recursively splits the input array into smaller sub-arrays, sorts each sub-array, and then merges the sorted sub-arrays to produce the final sorted array. \n",
    "\n",
    "#### Time Complexity\n",
    " \\(O(n \\log n)\\) - This is because the list is divided into two halves recursively (log n splits), and merging the halves takes linear time.\n",
    "\n",
    "#### Space Complexity\n",
    " \\(O(n)\\) for arrays due to the auxiliary space required for merging. For linked lists, it can be \\(O(\\log n)\\) due to the recursion stack.\n",
    "\n",
    "#### LeetCode  problem\n",
    "[Sort List - LeetCode](https://leetcode.com/problems/sort-list/)"
   ]
  },
  {
   "cell_type": "code",
   "execution_count": 48,
   "metadata": {},
   "outputs": [
    {
     "name": "stdout",
     "output_type": "stream",
     "text": [
      " [ 4880 | 7656 | 5218 | 9451 | 3203 | 7280 | 9936 | 6554 | 9479 | 1031 | 1457 | 1486 | 7977 | 3600 | 2287 | 7153 | 438 | 6915 | 5958 | 9853 ] \n",
      " [ 438 | 1031 | 1457 | 1486 | 2287 | 3203 | 3600 | 4880 | 5218 | 5958 | 6554 | 6915 | 7153 | 7280 | 7656 | 7977 | 9451 | 9479 | 9853 | 9936 ] \n"
     ]
    }
   ],
   "source": [
    "import typing as tp\n",
    "\n",
    "class ListNode:\n",
    "    def __init__(self, val :tp.Union[tp.List,float]):\n",
    "        if isinstance(val,tp.List):\n",
    "            self.val = val.pop(0)\n",
    "            self.next = ListNode(val) if len(val) else None\n",
    "        else:\n",
    "            self.val = val\n",
    "            self.next = None\n",
    "\n",
    "    def __str__(self):\n",
    "        string = \" [ \" + str(self.val)\n",
    "        current = self.next\n",
    "        while current:\n",
    "            string += \" | \" + str(current.val)\n",
    "            current = current.next\n",
    "        return string + \" ] \"\n",
    "\n",
    "def merge(a: ListNode,b: ListNode) -> ListNode:\n",
    "    a,b = (a,b) if a.val < b.val else (b,a)\n",
    "    head = a\n",
    "    while True:\n",
    "        if a.val > b.val:\n",
    "            a.val,b.val = b.val,a.val\n",
    "            a.next,b.next = b.next,a.next\n",
    "        if a.next is None:\n",
    "            a.next = b\n",
    "            return head\n",
    "        a = a.next\n",
    "    \n",
    "def merge_sort(head: ListNode) -> ListNode:\n",
    "\n",
    "    if head.next is None:\n",
    "        return head\n",
    "    middle = head\n",
    "    tail = head\n",
    "\n",
    "    #finding the half of the array\n",
    "    while tail.next and tail.next.next:\n",
    "        middle = middle.next\n",
    "        tail = tail.next.next\n",
    "\n",
    "    # splitting the list\n",
    "    right_node = middle.next\n",
    "    middle.next = None\n",
    "\n",
    "    left = merge_sort(head)\n",
    "    right = merge_sort(right_node)\n",
    "    m = merge(left,right)\n",
    "    return m\n",
    "\n",
    "import random\n",
    "a = ListNode([random.randint(0,10_000) for i in range(20)])\n",
    "\n",
    "print(a)\n",
    "\n",
    "sorted_a = merge_sort(a)\n",
    "print(sorted_a)"
   ]
  },
  {
   "cell_type": "code",
   "execution_count": 50,
   "metadata": {},
   "outputs": [
    {
     "name": "stdout",
     "output_type": "stream",
     "text": [
      "unsorted:  [ 7554 | 2263 | 7472 | 7261 | 4873 | 1025 | 2794 | 5567 | 830 | 4138 | 6068 | 7608 | 1313 | 3955 | 3316 | 4816 | 4959 | 8758 | 4929 | 6985 ] \n",
      "sorted:  [ 830 | 1025 | 1313 | 2263 | 2794 | 3316 | 3955 | 4138 | 4816 | 4873 | 4929 | 4959 | 5567 | 6068 | 6985 | 7261 | 7472 | 7554 | 7608 | 8758 ] \n"
     ]
    }
   ],
   "source": [
    "import random\n",
    "a = ListNode([random.randint(0,10_000) for i in range(20)])\n",
    "\n",
    "print(\"unsorted:\",a)\n",
    "\n",
    "sorted_a = merge_sort(a)\n",
    "print(\"sorted:\",sorted_a)"
   ]
  },
  {
   "cell_type": "code",
   "execution_count": 68,
   "metadata": {},
   "outputs": [
    {
     "name": "stdout",
     "output_type": "stream",
     "text": [
      "iteration 1: [1, 6, 1, 4, 5, 1]\n"
     ]
    },
    {
     "data": {
      "text/plain": [
       "[1, 6, 1, 4, 5, 1]"
      ]
     },
     "execution_count": 68,
     "metadata": {},
     "output_type": "execute_result"
    }
   ],
   "source": [
    "def wiggleSort(nums: tp.List[int]) -> None:\n",
    "    \"\"\"\n",
    "    Do not return anything, modify nums in-place instead.\n",
    "    \"\"\"\n",
    "    #n = len(nums)\n",
    "    #read = 0\n",
    "    #write = 0\n",
    "    #prev = nums[0]\n",
    "    #greater = True\n",
    "#\n",
    "    #for i in range(n):\n",
    "    #    if greater:\n",
    "    #        if read[i]\n",
    "    n = len(nums)\n",
    "    nums = sorted(nums)\n",
    "    for i in range(1,n//2,2):\n",
    "        nums[i], nums[n-i] = nums[n-i], nums[i]\n",
    "        print(f\"iteration {i}:\",nums)\n",
    "\n",
    "    return nums\n",
    "\n",
    "nums = [1,1,1,1,2,3,4,5,6,7,8,9,10,11]\n",
    "nums = [1,5,1,1,6,4]\n",
    "#nums = [1,3,2,2,3,1]\n",
    "wiggleSort(nums)"
   ]
  },
  {
   "cell_type": "code",
   "execution_count": 89,
   "metadata": {},
   "outputs": [
    {
     "data": {
      "text/plain": [
       "[0]"
      ]
     },
     "execution_count": 89,
     "metadata": {},
     "output_type": "execute_result"
    }
   ],
   "source": [
    "import typing as tp\n",
    "\n",
    "nums1 = [0]\n",
    "nums2 = []\n",
    "\n",
    "def merge(nums1: tp.List[int], nums2: tp.List[int]):\n",
    "    pointer_1 = 0\n",
    "    pointer_2 = 0\n",
    "    output = []\n",
    "    while (pointer_1<len(nums1)) and (pointer_2<len(nums2)):\n",
    "        if nums1[pointer_1] < nums2[pointer_2]:\n",
    "            output.append(nums1[pointer_1])\n",
    "            pointer_1 +=1\n",
    "        else:\n",
    "            output.append(nums2[pointer_2])\n",
    "            pointer_2 +=1\n",
    "    return output + nums1[pointer_1:] + nums2[pointer_2:]\n",
    "merge(nums1,nums2)"
   ]
  },
  {
   "cell_type": "code",
   "execution_count": 108,
   "metadata": {},
   "outputs": [],
   "source": [
    "import random\n",
    "import typing as tp\n",
    "\n",
    "real = int | float\n",
    "\n",
    "\n",
    "\n",
    "class Matrix:\n",
    "    def __init__(self, matrix_list):\n",
    "        self.matrix = matrix_list\n",
    "\n",
    "    def __str__(self):\n",
    "        rows = len(self.matrix)\n",
    "        cols = len(self.matrix[0])\n",
    "        max_width = max(len(str(element)) for row in self.matrix for element in row)\n",
    "\n",
    "        # Create the top border\n",
    "        border = \"+\" + \"-\" * ((max_width + 1) * cols + 1) + \"+\\n\"\n",
    "        matrix_str = border\n",
    "        \n",
    "        for row in self.matrix:\n",
    "            row_str = \" | \" + \" \".join(str(element).rjust(max_width) for element in row) + \" |\\n\"\n",
    "            matrix_str += row_str\n",
    "\n",
    "        # Add the bottom border\n",
    "        matrix_str += \" \"+border\n",
    "        return matrix_str.strip()\n",
    "\n",
    "    def __getitem__(self, index):\n",
    "        return self.matrix[index]\n",
    "    \n",
    "    def __len__(self):\n",
    "        return len(self.matrix)\n",
    "\n",
    "def strassens_multiplication( A: tp.List[tp.List[real]], B: tp.List[tp.List[real]]) -> tp.List[tp.List[real]]:\n",
    "    assert len(A[0]) == len(B)\n",
    "    k = len(B)\n",
    "    m = len(A)\n",
    "    n = len(B[0])\n",
    "\n",
    "    C = Matrix([[0 for _ in range(n)] for _ in range(m)])\n",
    "    for i in range(m):\n",
    "        for j in range(n):\n",
    "            for l in range(k):\n",
    "                C[i][j] += A[i][l] + B[l][j]\n",
    "    return C\n"
   ]
  },
  {
   "cell_type": "code",
   "execution_count": 111,
   "metadata": {},
   "outputs": [
    {
     "name": "stdout",
     "output_type": "stream",
     "text": [
      "9\n",
      "M:\n",
      " +-----------------------------------------------------------------+\n",
      " |  84  79  52  10  12  46  86   7  70  46  57  52  45  50   7   5 |\n",
      " |  44  45  98   1  81  89  44  84  85  79  69  42  75  22  10   7 |\n",
      " |  79  51   5  16  33  55   8  52  62  74  40  31  11  23  50  45 |\n",
      " |  15  69  71  32  80  49  23  28  64  15  94  54  50 100  56  72 |\n",
      " |  80  64  25  99  28  83  26  79  64  93  13  47  81  39  79  14 |\n",
      " |  17  74  57  70  43  68  10  96  42  71  88  76  97  49  63  86 |\n",
      " |  77  50  78  17  10  38   2  68  28  68  23  88  32  33  23  60 |\n",
      " |  91  79  19  96  69  29  80  47  92  74   1  18  75  76  50   5 |\n",
      " |  21  10  98  88  84  96  52   1  22  58  58  57  35  15  50  67 |\n",
      " |  39  13  68   5  40  84  15  26   8  33  23  31  44  11  30  34 |\n",
      " |  83  31  53  35   9  99   6  17  96  23  92  15  18  39  69  68 |\n",
      " |  42  73  38  12  40  17  51  32  50  70  50  89  93  52  45  37 |\n",
      " |  22  29  74  70   2  95  18  70  44  27  88  66  74   5  42   7 |\n",
      " |  33  41  23  65  77  98  16  89  20  20  27  39  71  34   5   8 |\n",
      " |  60   7  35  86  68  18  83  78  22  82  65  98  90  10  55  74 |\n",
      " |  56  16  35   2  64   9  11  32  42  67  92  65  54  43  46  81 |\n",
      " +-----------------------------------------------------------------+\n",
      "N:\n",
      " +-----------------------------------------------------------------+\n",
      " |  53  57   4  86  41  50  86  91  31  85  20  54  98  21  15  68 |\n",
      " |  77  67   4  16  84  71  49  31  71  50  21   4  97  55  52  59 |\n",
      " |  70   1  46  46  50  83  44  40  80  89  18  45  22  48  87  59 |\n",
      " |   3  60  31  53  20  95  64  35  12  65  46  24  86  27   8  80 |\n",
      " |  42  63  52  92  35  81  53  13  44  38  30  85  92   6  57  62 |\n",
      " |  70  67  64  96  47  37  92  41  98  82  61   6  26  38  23  70 |\n",
      " |  54  21  76  30  54   6  23  38  11  44  47  42  87  50  80  38 |\n",
      " |  40  89  82  70  68  70  89  10  68  19   8  15  41   3  95  97 |\n",
      " |  86  78  46  22  65  35  62  73  94  90  26  31  48  21  24  76 |\n",
      " |  60  14  50  45  44  14  46  73  74  70  24  16  53  58   4  75 |\n",
      " |  27  22  20  75  39  44  58   7  23  34  63  19  32  35  84  15 |\n",
      " |   5  12  21  30  36  38  99  96  16  83  22  40  39  34  33  53 |\n",
      " |  81  76  68  85  17  79  60  23  86  56  67  42  71  21  74  56 |\n",
      " |  36  39  25  83  76  65  49  42   2   9  66  39  48  19  25  85 |\n",
      " |  62  25  42  32  87  19  22   2 100  67  88  31  65  29  47  54 |\n",
      " |  37  37  84  80  61  50  41  70   1  12  17  65  66  53   5  65 |\n",
      " +-----------------------------------------------------------------+\n",
      "O:\n",
      " +---------------------------------------------------------------------------------+\n",
      " | 1511 1436 1423 1649 1532 1545 1645 1393 1519 1601 1332 1266 1679 1226 1421 1720 |\n",
      " | 1678 1603 1590 1816 1699 1712 1812 1560 1686 1768 1499 1433 1846 1393 1588 1887 |\n",
      " | 1438 1363 1350 1576 1459 1472 1572 1320 1446 1528 1259 1193 1606 1153 1348 1647 |\n",
      " | 1675 1600 1587 1813 1696 1709 1809 1557 1683 1765 1496 1430 1843 1390 1585 1884 |\n",
      " | 1717 1642 1629 1855 1738 1751 1851 1599 1725 1807 1538 1472 1885 1432 1627 1926 |\n",
      " | 1810 1735 1722 1948 1831 1844 1944 1692 1818 1900 1631 1565 1978 1525 1720 2019 |\n",
      " | 1498 1423 1410 1636 1519 1532 1632 1380 1506 1588 1319 1253 1666 1213 1408 1707 |\n",
      " | 1704 1629 1616 1842 1725 1738 1838 1586 1712 1794 1525 1459 1872 1419 1614 1913 |\n",
      " | 1615 1540 1527 1753 1636 1649 1749 1497 1623 1705 1436 1370 1783 1330 1525 1824 |\n",
      " | 1307 1232 1219 1445 1328 1341 1441 1189 1315 1397 1128 1062 1475 1022 1217 1516 |\n",
      " | 1556 1481 1468 1694 1577 1590 1690 1438 1564 1646 1377 1311 1724 1271 1466 1765 |\n",
      " | 1594 1519 1506 1732 1615 1628 1728 1476 1602 1684 1415 1349 1762 1309 1504 1803 |\n",
      " | 1536 1461 1448 1674 1557 1570 1670 1418 1544 1626 1357 1291 1704 1251 1446 1745 |\n",
      " | 1469 1394 1381 1607 1490 1503 1603 1351 1477 1559 1290 1224 1637 1184 1379 1678 |\n",
      " | 1734 1659 1646 1872 1755 1768 1868 1616 1742 1824 1555 1489 1902 1449 1644 1943 |\n",
      " | 1518 1443 1430 1656 1539 1552 1652 1400 1526 1608 1339 1273 1686 1233 1428 1727 |\n",
      " +---------------------------------------------------------------------------------+\n"
     ]
    }
   ],
   "source": [
    "M = Matrix([[6, 10], [9, 4]])\n",
    "print(M[1][0])  # Accessing element at row 1, column 0\n",
    "\n",
    "n = 16\n",
    "M = Matrix([[random.randint(1,100) for _ in range(n)] for _ in range(n)])\n",
    "N = Matrix([[random.randint(1,100) for _ in range(n)] for _ in range(n)])\n",
    "print(\"M:\\n\",(M))\n",
    "print(\"N:\\n\",(N))\n",
    "O = strassens_multiplication(M,N)\n",
    "print(\"O:\\n\",(O))"
   ]
  },
  {
   "cell_type": "code",
   "execution_count": 93,
   "metadata": {},
   "outputs": [],
   "source": []
  },
  {
   "cell_type": "code",
   "execution_count": null,
   "metadata": {},
   "outputs": [],
   "source": []
  }
 ],
 "metadata": {
  "kernelspec": {
   "display_name": "classic",
   "language": "python",
   "name": "python3"
  },
  "language_info": {
   "codemirror_mode": {
    "name": "ipython",
    "version": 3
   },
   "file_extension": ".py",
   "mimetype": "text/x-python",
   "name": "python",
   "nbconvert_exporter": "python",
   "pygments_lexer": "ipython3",
   "version": "3.12.3"
  }
 },
 "nbformat": 4,
 "nbformat_minor": 2
}
