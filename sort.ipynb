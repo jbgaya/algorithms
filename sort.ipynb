{
 "cells": [
  {
   "cell_type": "markdown",
   "metadata": {},
   "source": [
    "## Merge Sort\n",
    "\n",
    "Merge Sort is a divide-and-conquer algorithm that recursively splits the input array into smaller sub-arrays, sorts each sub-array, and then merges the sorted sub-arrays to produce the final sorted array. \n",
    "\n",
    "#### Time Complexity\n",
    " \\(O(n \\log n)\\) - This is because the list is divided into two halves recursively (log n splits), and merging the halves takes linear time.\n",
    "\n",
    "#### Space Complexity\n",
    " \\(O(n)\\) for arrays due to the auxiliary space required for merging. For linked lists, it can be \\(O(\\log n)\\) due to the recursion stack.\n",
    "\n",
    "#### LeetCode  problem\n",
    "[Sort List - LeetCode](https://leetcode.com/problems/sort-list/)"
   ]
  },
  {
   "cell_type": "code",
   "execution_count": 48,
   "metadata": {},
   "outputs": [
    {
     "name": "stdout",
     "output_type": "stream",
     "text": [
      " [ 4880 | 7656 | 5218 | 9451 | 3203 | 7280 | 9936 | 6554 | 9479 | 1031 | 1457 | 1486 | 7977 | 3600 | 2287 | 7153 | 438 | 6915 | 5958 | 9853 ] \n",
      " [ 438 | 1031 | 1457 | 1486 | 2287 | 3203 | 3600 | 4880 | 5218 | 5958 | 6554 | 6915 | 7153 | 7280 | 7656 | 7977 | 9451 | 9479 | 9853 | 9936 ] \n"
     ]
    }
   ],
   "source": [
    "import typing as tp\n",
    "\n",
    "class ListNode:\n",
    "    def __init__(self, val :tp.Union[tp.List,float]):\n",
    "        if isinstance(val,tp.List):\n",
    "            self.val = val.pop(0)\n",
    "            self.next = ListNode(val) if len(val) else None\n",
    "        else:\n",
    "            self.val = val\n",
    "            self.next = None\n",
    "\n",
    "    def __str__(self):\n",
    "        string = \" [ \" + str(self.val)\n",
    "        current = self.next\n",
    "        while current:\n",
    "            string += \" | \" + str(current.val)\n",
    "            current = current.next\n",
    "        return string + \" ] \"\n",
    "\n",
    "def merge(a: ListNode,b: ListNode) -> ListNode:\n",
    "    a,b = (a,b) if a.val < b.val else (b,a)\n",
    "    head = a\n",
    "    while True:\n",
    "        if a.val > b.val:\n",
    "            a.val,b.val = b.val,a.val\n",
    "            a.next,b.next = b.next,a.next\n",
    "        if a.next is None:\n",
    "            a.next = b\n",
    "            return head\n",
    "        a = a.next\n",
    "    \n",
    "def merge_sort(head: ListNode) -> ListNode:\n",
    "\n",
    "    if head.next is None:\n",
    "        return head\n",
    "    middle = head\n",
    "    tail = head\n",
    "\n",
    "    #finding the half of the array\n",
    "    while tail.next and tail.next.next:\n",
    "        middle = middle.next\n",
    "        tail = tail.next.next\n",
    "\n",
    "    # splitting the list\n",
    "    right_node = middle.next\n",
    "    middle.next = None\n",
    "\n",
    "    left = merge_sort(head)\n",
    "    right = merge_sort(right_node)\n",
    "    m = merge(left,right)\n",
    "    return m\n",
    "\n",
    "import random\n",
    "a = ListNode([random.randint(0,10_000) for i in range(20)])\n",
    "\n",
    "print(a)\n",
    "\n",
    "sorted_a = merge_sort(a)\n",
    "print(sorted_a)"
   ]
  },
  {
   "cell_type": "markdown",
   "metadata": {},
   "source": [
    "## Selection Sort\n",
    "\n",
    "#### Intuition:\n",
    "Selection Sort improves on the bubble sort by making only one exchange for every pass through the list. It selects the smallest (or largest, depending on sorting order) element from the unsorted segment of the array and swaps it with the element at the beginning of the unsorted segment.\n",
    "\n",
    "#### Time Complexity:\n",
    "* Best, Average, and Worst: (O(n^2))\n",
    "#### Space Complexity:\n",
    "* Worst: (O(1))"
   ]
  },
  {
   "cell_type": "code",
   "execution_count": 13,
   "metadata": {},
   "outputs": [
    {
     "data": {
      "text/plain": [
       "[5, 11, 17, 17, 25, 36, 40, 47, 70, 74]"
      ]
     },
     "execution_count": 13,
     "metadata": {},
     "output_type": "execute_result"
    }
   ],
   "source": [
    "import typing as tp\n",
    "import random\n",
    "\n",
    "def selection_sort(arr:tp.List):\n",
    "    n = len(arr)\n",
    "    for i in range(n):\n",
    "        min_index = i\n",
    "        for j in range(i+1,n):\n",
    "            if arr[j] < arr[min_index]:\n",
    "                min_index = j\n",
    "        arr[i], arr[min_index] = arr[min_index], arr[i]\n",
    "    return arr\n",
    "\n",
    "test = [random.randint(0,100) for _ in range(10)]\n",
    "selection_sort(test)"
   ]
  },
  {
   "cell_type": "markdown",
   "metadata": {},
   "source": [
    "## Insertion Sort\n",
    "\n",
    "#### Intuition\n",
    "\n",
    "Imagine you're sorting playing cards in your hand. You start with an empty hand and pick up cards one by one. For each new card, you compare it with the cards already in your hand, moving from right to left, and insert it in its correct position to maintain a sorted hand. This is the essence of insertion sort.\n",
    "\n",
    "Insertion sort works by dividing the list into two parts: a sorted sublist on the left and an unsorted sublist on the right. Initially, the sorted sublist contains only the first element. The algorithm iterates through the unsorted sublist, picking one element at a time. For each element, it finds its correct position within the sorted sublist and inserts it there, shifting larger elements to the right to make space.\n",
    "\n",
    "#### Step-by-step breakdown:\n",
    "\n",
    "* **Initialization**: The first element is considered sorted.\n",
    "* **Iteration**: Loop through the list, starting from the second element.\n",
    "* **Comparison & Shifting**: For each element, compare it with the elements in the sorted sublist (to its left). If the current element is smaller, shift the larger element one position to the right to make space.\n",
    "Insertion: Repeat the comparison and shifting process until the correct position for the current element is found. Insert the element at that position.\n",
    "* **Repeat**: Continue iterating and inserting until the entire list is sorted.\n",
    "\n",
    "\n",
    "#### Time and Space Complexity\n",
    "\n",
    "\n",
    "**Time Complexity**:\n",
    "\n",
    "* Best Case: O(n) - When the input list is already sorted, only one comparison is needed for each element.\n",
    "* Average Case: O(n^2) - In general, the number of comparisons and shifts increases with the input size.\n",
    "* Worst Case: O(n^2) - When the input list is sorted in reverse order, the maximum number of comparisons and shifts occur.\n",
    "\n",
    "\n",
    "**Space Complexity**\n",
    "* O(1) - Insertion sort is an in-place sorting algorithm, meaning it requires only a constant amount of additional space regardless of the input size. It directly modifies the original array."
   ]
  },
  {
   "cell_type": "code",
   "execution_count": null,
   "metadata": {},
   "outputs": [],
   "source": [
    "def insertion_sort(arr):\n",
    "    for i in range(1, len(arr)):\n",
    "        key = arr[i]\n",
    "        j = i-1\n",
    "        while j >= 0 and key < arr[j] :\n",
    "                arr[j + 1] = arr[j]\n",
    "                j -= 1\n",
    "        arr[j + 1] = key"
   ]
  },
  {
   "cell_type": "markdown",
   "metadata": {},
   "source": [
    "## Wiggle sort"
   ]
  },
  {
   "cell_type": "code",
   "execution_count": 2,
   "metadata": {},
   "outputs": [
    {
     "name": "stdout",
     "output_type": "stream",
     "text": [
      "iteration 1: [1, 6, 1, 4, 5, 1]\n"
     ]
    },
    {
     "data": {
      "text/plain": [
       "[1, 6, 1, 4, 5, 1]"
      ]
     },
     "execution_count": 2,
     "metadata": {},
     "output_type": "execute_result"
    }
   ],
   "source": [
    "import typing as tp\n",
    "\n",
    "def wiggleSort(nums: tp.List[int]) -> None:\n",
    "    n = len(nums)\n",
    "    nums = sorted(nums)\n",
    "    for i in range(1,n//2,2):\n",
    "        nums[i], nums[n-i] = nums[n-i], nums[i]\n",
    "        print(f\"iteration {i}:\",nums)\n",
    "\n",
    "    return nums\n",
    "\n",
    "nums = [1,1,1,1,2,3,4,5,6,7,8,9,10,11]\n",
    "nums = [1,5,1,1,6,4]\n",
    "#nums = [1,3,2,2,3,1]\n",
    "wiggleSort(nums)"
   ]
  },
  {
   "cell_type": "markdown",
   "metadata": {},
   "source": [
    "## Select the k-th element"
   ]
  },
  {
   "cell_type": "code",
   "execution_count": 15,
   "metadata": {},
   "outputs": [
    {
     "name": "stdout",
     "output_type": "stream",
     "text": [
      "The 3-th smallest element is: 7\n"
     ]
    }
   ],
   "source": [
    "def quickselect(arr, low, high, k):\n",
    "    if low == high:\n",
    "        return arr[low]\n",
    "    \n",
    "    pi = partition(arr, low, high)\n",
    "    \n",
    "    if pi == k:\n",
    "        return arr[pi]\n",
    "    elif pi < k:\n",
    "        return quickselect(arr, pi + 1, high, k)\n",
    "    else:\n",
    "        return quickselect(arr, low, pi - 1, k)\n",
    "\n",
    "def partition(arr, low, high):\n",
    "    pivot = arr[high]\n",
    "    i = low - 1\n",
    "    for j in range(low, high):\n",
    "        if arr[j] <= pivot:\n",
    "            i += 1\n",
    "            arr[i], arr[j] = arr[j], arr[i]\n",
    "    arr[i + 1], arr[high] = arr[high], arr[i + 1]\n",
    "    return i + 1\n",
    "\n",
    "# Example usage\n",
    "arr = [10, 7, 8, 9, 1, 5]\n",
    "k = 2  # Looking for the 3rd smallest element (0-based index)\n",
    "result = quickselect(arr, 0, len(arr) - 1, k)\n",
    "print(f\"The {k + 1}-th smallest element is:\", result)"
   ]
  },
  {
   "cell_type": "markdown",
   "metadata": {},
   "source": [
    "## Find the k largest elements\n",
    "\n",
    "\n",
    "### 1- with heapq\n",
    "\n",
    "time complexity is o(nlogk)\n",
    "space complexity is o(log k)"
   ]
  },
  {
   "cell_type": "code",
   "execution_count": 14,
   "metadata": {},
   "outputs": [
    {
     "name": "stdout",
     "output_type": "stream",
     "text": [
      "The 3 largest elements are: [9, 6, 5]\n"
     ]
    }
   ],
   "source": [
    "import heapq\n",
    "\n",
    "def find_k_largest_elements(nums, k):\n",
    "    # Edge case: if k is greater than the length of nums, return sorted nums\n",
    "    if k >= len(nums):\n",
    "        return sorted(nums, reverse=True)\n",
    "    \n",
    "    # Initialize a min-heap with the first k elements\n",
    "    min_heap = nums[:k]\n",
    "    heapq.heapify(min_heap)\n",
    "    \n",
    "    # Iterate through the remaining elements\n",
    "    for num in nums[k:]:\n",
    "        if num > min_heap[0]:  # If current element is larger than the smallest in heap\n",
    "            heapq.heapreplace(min_heap, num)  # Replace and re-heapify\n",
    "    \n",
    "    # The heap now contains the k largest elements\n",
    "    return sorted(min_heap, reverse=True)\n",
    "\n",
    "# Example usage\n",
    "data = [3, 1, 4, 1, 5, 9, 2, 6, 5, 3, 5]\n",
    "k = 3\n",
    "largest_elements = find_k_largest_elements(data, k)\n",
    "print(f\"The {k} largest elements are:\", largest_elements)"
   ]
  },
  {
   "cell_type": "markdown",
   "metadata": {},
   "source": [
    "### 2- with quickselect\n",
    "\n",
    "time complexity is o(n) in average (+ o(klog k) for sorting it)\n",
    "space complexity is o(1)"
   ]
  },
  {
   "cell_type": "code",
   "execution_count": null,
   "metadata": {},
   "outputs": [],
   "source": []
  }
 ],
 "metadata": {
  "kernelspec": {
   "display_name": "classic",
   "language": "python",
   "name": "python3"
  },
  "language_info": {
   "codemirror_mode": {
    "name": "ipython",
    "version": 3
   },
   "file_extension": ".py",
   "mimetype": "text/x-python",
   "name": "python",
   "nbconvert_exporter": "python",
   "pygments_lexer": "ipython3",
   "version": "3.12.3"
  }
 },
 "nbformat": 4,
 "nbformat_minor": 2
}
