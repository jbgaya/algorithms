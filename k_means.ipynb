{
 "cells": [
  {
   "cell_type": "code",
   "execution_count": 37,
   "metadata": {},
   "outputs": [],
   "source": [
    "import numpy as np\n",
    "logits = np.stack([1/euclidean_dist(point,centroids[\"0\"]) for point in points])\n",
    "sum_softmax = sum(np.exp(logits))\n",
    "probs = np.exp(logits) / sum_softmax\n",
    "np.random.choice(obj_list, p=dist[0])"
   ]
  },
  {
   "cell_type": "code",
   "execution_count": 39,
   "metadata": {},
   "outputs": [
    {
     "data": {
      "text/plain": [
       "array([6.61658186e-184, 6.66667510e-184, 6.63729459e-184, ...,\n",
       "       6.53756551e-184, 6.76705974e-184, 6.62201658e-184])"
      ]
     },
     "execution_count": 39,
     "metadata": {},
     "output_type": "execute_result"
    }
   ],
   "source": [
    "probs"
   ]
  },
  {
   "cell_type": "code",
   "execution_count": 34,
   "metadata": {},
   "outputs": [
    {
     "data": {
      "text/plain": [
       "21.842035279384092"
      ]
     },
     "execution_count": 34,
     "metadata": {},
     "output_type": "execute_result"
    }
   ],
   "source": [
    "euclidean_dist(points[0],centroids[\"0\"])"
   ]
  },
  {
   "cell_type": "code",
   "execution_count": 52,
   "metadata": {},
   "outputs": [
    {
     "data": {
      "text/plain": [
       "{'0': array([1.30885016, 0.38075074]),\n",
       " '1': array([ 2.28238363, -0.68162376]),\n",
       " '2': nan,\n",
       " '3': array([-0.20525852,  2.03133431])}"
      ]
     },
     "execution_count": 52,
     "metadata": {},
     "output_type": "execute_result"
    }
   ],
   "source": [
    "centroids"
   ]
  },
  {
   "cell_type": "code",
   "execution_count": 59,
   "metadata": {},
   "outputs": [
    {
     "ename": "UnboundLocalError",
     "evalue": "cannot access local variable 'centroid' where it is not associated with a value",
     "output_type": "error",
     "traceback": [
      "\u001b[0;31m---------------------------------------------------------------------------\u001b[0m",
      "\u001b[0;31mUnboundLocalError\u001b[0m                         Traceback (most recent call last)",
      "Cell \u001b[0;32mIn[59], line 61\u001b[0m\n\u001b[1;32m     59\u001b[0m \u001b[38;5;28;01mfor\u001b[39;00m i \u001b[38;5;129;01min\u001b[39;00m \u001b[38;5;28mrange\u001b[39m(iterations):\n\u001b[1;32m     60\u001b[0m     \u001b[38;5;28;01mif\u001b[39;00m i \u001b[38;5;241m==\u001b[39m \u001b[38;5;241m0\u001b[39m:\n\u001b[0;32m---> 61\u001b[0m         centroids \u001b[38;5;241m=\u001b[39m \u001b[43mplusplus_init\u001b[49m\u001b[43m(\u001b[49m\u001b[43mpoints\u001b[49m\u001b[43m,\u001b[49m\u001b[43mK\u001b[49m\u001b[43m)\u001b[49m\n\u001b[1;32m     63\u001b[0m     \u001b[38;5;66;03m# minimization by assignment (points)\u001b[39;00m\n\u001b[1;32m     64\u001b[0m     clusters \u001b[38;5;241m=\u001b[39m cluster_assignment(centroids, points)\n",
      "Cell \u001b[0;32mIn[59], line 44\u001b[0m, in \u001b[0;36mplusplus_init\u001b[0;34m(points, k)\u001b[0m\n\u001b[1;32m     42\u001b[0m centroids \u001b[38;5;241m=\u001b[39m [points[np\u001b[38;5;241m.\u001b[39mrandom\u001b[38;5;241m.\u001b[39mchoice(\u001b[38;5;28mrange\u001b[39m(\u001b[38;5;28mlen\u001b[39m(points)))]]\n\u001b[1;32m     43\u001b[0m \u001b[38;5;28;01mfor\u001b[39;00m i \u001b[38;5;129;01min\u001b[39;00m \u001b[38;5;28mrange\u001b[39m(\u001b[38;5;241m1\u001b[39m,k):\n\u001b[0;32m---> 44\u001b[0m     logits \u001b[38;5;241m=\u001b[39m np\u001b[38;5;241m.\u001b[39mstack([\u001b[38;5;241m1\u001b[39m\u001b[38;5;241m/\u001b[39m\u001b[38;5;28mmin\u001b[39m([euclidean_dist(point,centroid) \u001b[38;5;28;01mfor\u001b[39;00m centroid \u001b[38;5;129;01min\u001b[39;00m centroids ])  \u001b[38;5;28;01mif\u001b[39;00m (point\u001b[38;5;241m-\u001b[39m\u001b[43mcentroid\u001b[49m)\u001b[38;5;241m.\u001b[39many() \u001b[38;5;28;01melse\u001b[39;00m \u001b[38;5;241m0\u001b[39m \u001b[38;5;28;01mfor\u001b[39;00m point \u001b[38;5;129;01min\u001b[39;00m points])\n\u001b[1;32m     45\u001b[0m     probs \u001b[38;5;241m=\u001b[39m logits \u001b[38;5;241m/\u001b[39m \u001b[38;5;28msum\u001b[39m(logits)\n\u001b[1;32m     46\u001b[0m     centroid \u001b[38;5;241m=\u001b[39m points[np\u001b[38;5;241m.\u001b[39mrandom\u001b[38;5;241m.\u001b[39mchoice(\u001b[38;5;28mrange\u001b[39m(\u001b[38;5;28mlen\u001b[39m(points)),p\u001b[38;5;241m=\u001b[39mprobs)]\n",
      "\u001b[0;31mUnboundLocalError\u001b[0m: cannot access local variable 'centroid' where it is not associated with a value"
     ]
    }
   ],
   "source": [
    "import numpy as np\n",
    "from IPython.display import clear_output\n",
    "import random\n",
    "\n",
    "K = 4\n",
    "N = 2000\n",
    "iterations = 100\n",
    "\n",
    "def euclidean_dist(a,b):\n",
    "    return np.dot(b-a,(b-a).T)\n",
    "\n",
    "\n",
    "def gradient_descent(centroid, cluster_points, lr=1e-5):\n",
    "    gradient = np.array([0.,0.])\n",
    "    loss = np.array([0.])\n",
    "    for cluster_point in cluster_points:\n",
    "        gradient += - 2*(centroid-cluster_point)\n",
    "        loss += (centroid-cluster_point) @ (centroid-cluster_point).T\n",
    "    centroid = centroid + lr * gradient\n",
    "    return centroid, loss\n",
    "\n",
    "def centroid_computation(cluster_points, lr=1e-5):\n",
    "    return np.mean(cluster_points,axis = 0)\n",
    "\n",
    "def cluster_assignment(centroids,points):\n",
    "    clusters = {k:[] for k in centroids}\n",
    "    for point in points:\n",
    "        min_dist = float(\"inf\")\n",
    "        for centroid,centroid_points in centroids.items():\n",
    "            dist = euclidean_dist(point,centroid_points)\n",
    "            if dist < min_dist:\n",
    "                assigned_centroid = centroid\n",
    "                min_dist = dist\n",
    "        clusters[assigned_centroid].append(point)\n",
    "    return clusters\n",
    "\n",
    "def random_init(points,k):\n",
    "    centroids = random.sample(list(points),k)\n",
    "    return {f\"{i}\":c for i,c in enumerate(centroids)}\n",
    "\n",
    "def plusplus_init(points,k):\n",
    "    centroids = [points[np.random.choice(range(len(points)))]]\n",
    "    for i in range(1,k):\n",
    "        logits = np.stack([max(1/min([euclidean_dist(point,centroid) if (point-centroid).any() else 0 for centroid in centroids ]) for point in points])\n",
    "        probs = logits / sum(logits)\n",
    "        centroid = points[np.random.choice(range(len(points)),p=probs)]\n",
    "        centroids.append(centroid)\n",
    "    return {f\"{i}\":c for i,c in enumerate(centroids)}\n",
    "\n",
    "\n",
    "points =          [[random.random()*2,random.random()*10 - 5] for _ in range(N//3)] + \\\n",
    "                  [[random.random()*10 - 5,random.random()*1 + 1] for _ in range(N//3)] + \\\n",
    "                  [[random.random()*3 + 0,random.random()*3 + 0] for _ in range(N//3)]\n",
    "\n",
    "\n",
    "points = np.array(points)\n",
    "\n",
    "\n",
    "for i in range(iterations):\n",
    "    if i == 0:\n",
    "        centroids = plusplus_init(points,K)\n",
    "\n",
    "    # minimization by assignment (points)\n",
    "    clusters = cluster_assignment(centroids, points)\n",
    "\n",
    "    # minimization by gradient descent (centroid)\n",
    "    for clust in centroids.keys():\n",
    "        prior_loss = float(\"inf\")\n",
    "        loss = 0\n",
    "        while abs(loss-prior_loss)>0.01:\n",
    "            prior_loss = loss\n",
    "            centroids[clust], loss = gradient_descent(centroids[clust],clusters[clust],lr=0.0001)\n",
    "    # minimization by mean\n",
    "    for clust in centroids.keys():\n",
    "        centroids[clust] = centroid_computation(clusters[clust])\n",
    "\n",
    "    import matplotlib.pyplot as plt\n",
    "\n",
    "    # Set the colors using tab:10\n",
    "    colors = plt.cm.tab10.colors\n",
    "\n",
    "    # Create a scatter plot for each cluster\n",
    "    for i, cluster_points in clusters.items():\n",
    "        x = [point[0] for point in cluster_points]\n",
    "        y = [point[1] for point in cluster_points]\n",
    "        plt.scatter(x, y, color=colors[int(i)], s=4)\n",
    "\n",
    "    # Create a scatter plot for the centroids with bigger black border\n",
    "    for i, centroid in centroids.items():\n",
    "        plt.scatter(centroid[0], centroid[1], color=colors[int(i)], edgecolors='black', linewidths=1, s=40)\n",
    "\n",
    "    # Set the x and y limits\n",
    "    plt.xlim(-10, 10)\n",
    "    plt.ylim(-10, 10)\n",
    "\n",
    "    # Set the ticks using a 2 by 2 linespace\n",
    "    plt.xticks(range(-10, 11, 2))\n",
    "    plt.yticks(range(-10, 11, 2))\n",
    "\n",
    "    # Show the plot\n",
    "    plt.show()\n",
    "    clear_output(wait=True)"
   ]
  },
  {
   "cell_type": "code",
   "execution_count": 28,
   "metadata": {},
   "outputs": [
    {
     "name": "stdout",
     "output_type": "stream",
     "text": [
      "200.62\n",
      "5699.98\n",
      "0.0\n"
     ]
    }
   ],
   "source": [
    "for clust in centroids.keys():\n",
    "    prior_loss = float(\"inf\")\n",
    "    loss = 0\n",
    "    while abs(loss-prior_loss)>0.01:\n",
    "        prior_loss = loss\n",
    "        centroids[clust], loss = gradient_descent(centroids[clust],clusters[clust],lr=0.001)\n",
    "    print(round(loss[0],2))"
   ]
  },
  {
   "cell_type": "code",
   "execution_count": 29,
   "metadata": {},
   "outputs": [
    {
     "data": {
      "image/png": "[encoded data removed]",
      "text/plain": [
       "<Figure size 640x480 with 1 Axes>"
      ]
     },
     "metadata": {},
     "output_type": "display_data"
    }
   ],
   "source": [
    "import matplotlib.pyplot as plt\n",
    "\n",
    "# Set the colors using tab:10\n",
    "colors = plt.cm.tab10.colors\n",
    "\n",
    "# Create a scatter plot for each cluster\n",
    "for i, cluster_points in clusters.items():\n",
    "    x = [point[0] for point in cluster_points]\n",
    "    y = [point[1] for point in cluster_points]\n",
    "    plt.scatter(x, y, color=colors[int(i)], s=4)\n",
    "\n",
    "# Create a scatter plot for the centroids with bigger black border\n",
    "for i, centroid in centroids.items():\n",
    "    plt.scatter(centroid[0], centroid[1], color=colors[int(i)], edgecolors='black', linewidths=1, s=40)\n",
    "\n",
    "# Set the x and y limits\n",
    "plt.xlim(-10, 10)\n",
    "plt.ylim(-10, 10)\n",
    "\n",
    "# Set the ticks using a 2 by 2 linespace\n",
    "plt.xticks(range(-10, 11, 2))\n",
    "plt.yticks(range(-10, 11, 2))\n",
    "\n",
    "# Show the plot\n",
    "plt.show()"
   ]
  },
  {
   "cell_type": "code",
   "execution_count": null,
   "metadata": {},
   "outputs": [],
   "source": []
  }
 ],
 "metadata": {
  "kernelspec": {
   "display_name": "classic",
   "language": "python",
   "name": "python3"
  },
  "language_info": {
   "codemirror_mode": {
    "name": "ipython",
    "version": 3
   },
   "file_extension": ".py",
   "mimetype": "text/x-python",
   "name": "python",
   "nbconvert_exporter": "python",
   "pygments_lexer": "ipython3",
   "version": "3.12.3"
  }
 },
 "nbformat": 4,
 "nbformat_minor": 2
}
