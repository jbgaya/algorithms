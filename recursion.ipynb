{
 "cells": [
  {
   "cell_type": "markdown",
   "metadata": {},
   "source": [
    "## Climbing stairs\n",
    "\n",
    "You are climbing a staircase. It takes n steps to reach the top.\n",
    "\n",
    "Each time you can either climb 1 or 2 steps. In how many distinct ways can you climb to the top?\n",
    "\n",
    " \n",
    "\n",
    "#### Example 1:\n",
    "\n",
    "```\n",
    "Input: n = 2\n",
    "Output: 2\n",
    "Explanation: There are two ways to climb to the top.\n",
    "1. 1 step + 1 step\n",
    "2. 2 steps\n",
    "```\n",
    "\n",
    "#### Example 2:\n",
    "```\n",
    "Input: n = 3\n",
    "Output: 3\n",
    "Explanation: There are three ways to climb to the top.\n",
    "1. 1 step + 1 step + 1 step\n",
    "2. 1 step + 2 steps\n",
    "3. 2 steps + 1 step\n",
    " ```\n",
    "\n",
    "#### Constraints:\n",
    "```\n",
    "1 <= n <= 45\n",
    "```"
   ]
  },
  {
   "cell_type": "markdown",
   "metadata": {},
   "source": [
    "## Recursion"
   ]
  },
  {
   "cell_type": "code",
   "execution_count": 22,
   "metadata": {},
   "outputs": [
    {
     "data": {
      "text/plain": [
       "88793027306605937532517516910637647045239090036365766884466525589158360259770006891772711976920559280382807770394537471560061517120086971996377683290300054868066659454250625417891167369401"
      ]
     },
     "execution_count": 22,
     "metadata": {},
     "output_type": "execute_result"
    }
   ],
   "source": [
    "from functools import cache\n",
    "\n",
    "@cache\n",
    "def climbStairs(n: int) -> int:\n",
    "    if n == 1:\n",
    "        return 1\n",
    "    elif n == 2:\n",
    "        return 2\n",
    "    return climbStairs(n-1) + climbStairs(n-2)\n",
    "\n",
    "n = 900\n",
    "\n",
    "climbStairs(n)"
   ]
  },
  {
   "cell_type": "markdown",
   "metadata": {},
   "source": [
    "## Dynamic programming"
   ]
  },
  {
   "cell_type": "code",
   "execution_count": 28,
   "metadata": {},
   "outputs": [
    {
     "data": {
      "text/plain": [
       "88793027306605937532517516910637647045239090036365766884466525589158360259770006891772711976920559280382807770394537471560061517120086971996377683290300054868066659454250625417891167369401"
      ]
     },
     "execution_count": 28,
     "metadata": {},
     "output_type": "execute_result"
    }
   ],
   "source": [
    "def climbStairs(n: int) -> int:\n",
    "\n",
    "    \n",
    "    U1 = 1\n",
    "    U2 = 2\n",
    "\n",
    "    if n == 1:\n",
    "        return U1\n",
    "    if n == 2:\n",
    "        return U2\n",
    "\n",
    "    for i in range(2,n):\n",
    "        U3 = U1 + U2\n",
    "        U1 = U2\n",
    "        U2 = U3\n",
    "    return U3\n",
    "n = 900\n",
    "climbStairs(n)"
   ]
  },
  {
   "cell_type": "markdown",
   "metadata": {},
   "source": [
    "# 206. Reverse Linked List\n",
    "\n",
    "## Problem Statement\n",
    "Given the head of a singly linked list, reverse the list, and return the reversed list.\n",
    "\n",
    "### Examples\n",
    "\n",
    "#### Example 1:\n",
    "```plaintext\n",
    "Input: head = [1,2,3,4,5]\n",
    "Output: [5,4,3,2,1]\n",
    "```\n",
    "\n",
    "#### Example 2:\n",
    "```plaintext\n",
    "Input: head = [1,2]\n",
    "Output: [2,1]\n",
    "```\n",
    "\n",
    "#### Example 3:\n",
    "```plaintext\n",
    "Input: head = []\n",
    "Output: []\n",
    "```"
   ]
  },
  {
   "cell_type": "code",
   "execution_count": 49,
   "metadata": {},
   "outputs": [
    {
     "name": "stdout",
     "output_type": "stream",
     "text": [
      " [ 5 | 4 | 3 | 2 | 1 | 0 ] \n",
      " [ 5 | 4 | 3 | 2 | 1 | 0 ] \n"
     ]
    }
   ],
   "source": [
    "import typing as tp\n",
    "\n",
    "class ListNode:\n",
    "    def __init__(self, val :tp.Union[tp.List,float]):\n",
    "        if isinstance(val,tp.List):\n",
    "            self.val = val.pop(0)\n",
    "            self.next = ListNode(val) if len(val) else None\n",
    "        else:\n",
    "            self.val = val\n",
    "            self.next = None\n",
    "\n",
    "    def __str__(self):\n",
    "        string = \" [ \" + str(self.val)\n",
    "        current = self.next\n",
    "        while current:\n",
    "            string += \" | \" + str(current.val)\n",
    "            current = current.next\n",
    "        return string + \" ] \"\n",
    "    \n",
    "\n",
    "# recursion style\n",
    "def swap(prev,current):\n",
    "    if current is None:\n",
    "         return prev\n",
    "    future = current.next\n",
    "    current.next = prev\n",
    "    return swap(current,future)\n",
    "def reverseList(head: tp.Optional[ListNode]) -> tp.Optional[ListNode]:\n",
    "        return swap(None,head)\n",
    "\n",
    "test = ListNode([0,1,2,3,4,5])\n",
    "print(reverseList(test))\n",
    "\n",
    "\n",
    "# dp style\n",
    "\n",
    "def reverseList(head: tp.Optional[ListNode]) -> tp.Optional[ListNode]:\n",
    "    temp = head\n",
    "    prev = None\n",
    "    front = None\n",
    "    while temp != None:\n",
    "        front = temp.next\n",
    "        temp.next = prev\n",
    "        prev = temp\n",
    "        temp = front\n",
    "    return prev\n",
    "test = ListNode([0,1,2,3,4,5])\n",
    "print(reverseList(test))"
   ]
  },
  {
   "cell_type": "markdown",
   "metadata": {},
   "source": [
    "# 92. Reverse Linked List II\n",
    "\n",
    "## Problem Description\n",
    "\n",
    "**Title:** Reverse Linked List II  \n",
    "**Difficulty:** Medium\n",
    "\n",
    "### Given:\n",
    "\n",
    "- The `head` of a singly linked list.\n",
    "- Two integers `left` and `right` where `left <= right`.\n",
    "\n",
    "### Task:\n",
    "\n",
    "Reverse the nodes of the list from position `left` to position `right`, and return the reversed list.\n",
    "\n",
    "### Examples:\n",
    "\n",
    "#### Example 1:\n",
    "```python\n",
    "Input: head = [1,2,3,4,5], left = 2, right = 4\n",
    "Output: [1,4,3,2,5]\n",
    "```\n",
    "\n",
    "#### Example 2:\n",
    "```python\n",
    "Input: head = [5], left = 1, right = 1\n",
    "Output: [5]\n",
    "```\n",
    "\n",
    "### Constraints:\n",
    "\n",
    "- The number of nodes in the list is `n`.\n",
    "- `1 <= n <= 500`\n",
    "- `-500 <= Node.val <= 500`\n",
    "- `1 <= left <= right <= n`\n",
    "\n",
    "### Follow-up:\n",
    "\n",
    "Could you do it in one pass?"
   ]
  },
  {
   "cell_type": "code",
   "execution_count": 90,
   "metadata": {},
   "outputs": [
    {
     "name": "stdout",
     "output_type": "stream",
     "text": [
      " [ 5 | 4 | 3 | 2 | 1 ] \n"
     ]
    }
   ],
   "source": [
    "import typing as tp\n",
    "\n",
    "class ListNode:\n",
    "    def __init__(self, val :tp.Union[tp.List,float]):\n",
    "        if isinstance(val,tp.List):\n",
    "            self.val = val.pop(0)\n",
    "            self.next = ListNode(val) if len(val) else None\n",
    "        else:\n",
    "            self.val = val\n",
    "            self.next = None\n",
    "\n",
    "    def __str__(self):\n",
    "        string = \" [ \" + str(self.val)\n",
    "        current = self.next\n",
    "        while current:\n",
    "            string += \" | \" + str(current.val)\n",
    "            current = current.next\n",
    "        return string + \" ] \"\n",
    "    \n",
    "\n",
    "def reverseBetween(head: tp.Optional[ListNode], left: int, right: int) -> tp.Optional[ListNode]:\n",
    "    prev = head\n",
    "    if left == right:\n",
    "        return head\n",
    "    last_ = None\n",
    "    for i in range(left-1):\n",
    "        last_ = prev\n",
    "        prev = prev.next\n",
    "    next_ = prev\n",
    "\n",
    "    current = prev.next\n",
    "    for i in range(left,right):\n",
    "        future = current.next\n",
    "        current.next = prev\n",
    "        prev = current\n",
    "        current = future\n",
    "    \n",
    "    \n",
    "    next_.next = current\n",
    "    if last_ is None:\n",
    "        return prev\n",
    "    else:\n",
    "        last_.next = prev\n",
    "        return head\n",
    "\n",
    "\n",
    "test = ListNode([1,2,3,4,5])\n",
    "left = 1\n",
    "right = 5\n",
    "\n",
    "testation = reverseBetween(test,left,right)\n",
    "print(testation)"
   ]
  },
  {
   "cell_type": "code",
   "execution_count": 52,
   "metadata": {},
   "outputs": [],
   "source": [
    "for k in range(-1):\n",
    "    print(k)"
   ]
  },
  {
   "cell_type": "code",
   "execution_count": null,
   "metadata": {},
   "outputs": [],
   "source": []
  }
 ],
 "metadata": {
  "kernelspec": {
   "display_name": "classic",
   "language": "python",
   "name": "python3"
  },
  "language_info": {
   "codemirror_mode": {
    "name": "ipython",
    "version": 3
   },
   "file_extension": ".py",
   "mimetype": "text/x-python",
   "name": "python",
   "nbconvert_exporter": "python",
   "pygments_lexer": "ipython3",
   "version": "3.12.3"
  }
 },
 "nbformat": 4,
 "nbformat_minor": 2
}
