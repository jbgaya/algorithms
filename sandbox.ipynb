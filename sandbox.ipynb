{
 "cells": [
  {
   "cell_type": "code",
   "execution_count": 31,
   "metadata": {},
   "outputs": [
    {
     "data": {
      "text/plain": [
       "[0,\n",
       " 1,\n",
       " 2,\n",
       " 3,\n",
       " 4,\n",
       " 5,\n",
       " 6,\n",
       " 7,\n",
       " 8,\n",
       " 9,\n",
       " 19,\n",
       " 29,\n",
       " 39,\n",
       " 49,\n",
       " 59,\n",
       " 69,\n",
       " 79,\n",
       " 89,\n",
       " 99,\n",
       " 98,\n",
       " 97,\n",
       " 96,\n",
       " 95,\n",
       " 94,\n",
       " 93,\n",
       " 92,\n",
       " 91,\n",
       " 90,\n",
       " 80,\n",
       " 70,\n",
       " 60,\n",
       " 50,\n",
       " 40,\n",
       " 30,\n",
       " 20,\n",
       " 10,\n",
       " 11,\n",
       " 12,\n",
       " 13,\n",
       " 14,\n",
       " 15,\n",
       " 16,\n",
       " 17,\n",
       " 18,\n",
       " 28,\n",
       " 38,\n",
       " 48,\n",
       " 58,\n",
       " 68,\n",
       " 78,\n",
       " 88,\n",
       " 87,\n",
       " 86,\n",
       " 85,\n",
       " 84,\n",
       " 83,\n",
       " 82,\n",
       " 81,\n",
       " 71,\n",
       " 61,\n",
       " 51,\n",
       " 41,\n",
       " 31,\n",
       " 21,\n",
       " 22,\n",
       " 23,\n",
       " 24,\n",
       " 25,\n",
       " 26,\n",
       " 27,\n",
       " 37,\n",
       " 47,\n",
       " 57,\n",
       " 67,\n",
       " 77,\n",
       " 76,\n",
       " 75,\n",
       " 74,\n",
       " 73,\n",
       " 72,\n",
       " 62,\n",
       " 52,\n",
       " 42,\n",
       " 32,\n",
       " 33,\n",
       " 34,\n",
       " 35,\n",
       " 36,\n",
       " 46,\n",
       " 56,\n",
       " 66,\n",
       " 65,\n",
       " 64,\n",
       " 63,\n",
       " 53,\n",
       " 43,\n",
       " 44,\n",
       " 45,\n",
       " 55,\n",
       " 54]"
      ]
     },
     "execution_count": 31,
     "metadata": {},
     "output_type": "execute_result"
    }
   ],
   "source": [
    "import random\n",
    "\n",
    "m = 10\n",
    "n = 10\n",
    "\n",
    "M = [[i + (m*j) for i in range(m)] for j in range(n)]\n",
    "\n",
    "def rotate(M):\n",
    "    return [list(row) for row in zip(*M)][::-1]\n",
    "\n",
    "\n",
    "def spiral(M):\n",
    "    if len(M) == 0:\n",
    "        return []\n",
    "    return M[0] + spiral(rotate(M[1:]))\n",
    "\n",
    "spiral(M)"
   ]
  },
  {
   "cell_type": "code",
   "execution_count": 7,
   "metadata": {},
   "outputs": [
    {
     "data": {
      "text/plain": [
       "[(3, 6, 9), (2, 5, 8), (1, 4, 7)]"
      ]
     },
     "execution_count": 7,
     "metadata": {},
     "output_type": "execute_result"
    }
   ],
   "source": [
    "[*zip(*M)][::-1]"
   ]
  },
  {
   "cell_type": "code",
   "execution_count": 32,
   "metadata": {},
   "outputs": [],
   "source": [
    "import numpy as np\n",
    "\n",
    "M = np.array(M)"
   ]
  },
  {
   "cell_type": "code",
   "execution_count": 28,
   "metadata": {},
   "outputs": [
    {
     "data": {
      "text/plain": [
       "[(1, 4, 7), (2, 5, 8), (3, 6, 9)]"
      ]
     },
     "execution_count": 28,
     "metadata": {},
     "output_type": "execute_result"
    }
   ],
   "source": [
    "[*zip(*M)]"
   ]
  },
  {
   "cell_type": "code",
   "execution_count": 33,
   "metadata": {},
   "outputs": [
    {
     "data": {
      "text/plain": [
       "array([[ 0,  1,  2,  3,  4,  5,  6,  7,  8,  9],\n",
       "       [10, 11, 12, 13, 14, 15, 16, 17, 18, 19],\n",
       "       [20, 21, 22, 23, 24, 25, 26, 27, 28, 29],\n",
       "       [30, 31, 32, 33, 34, 35, 36, 37, 38, 39],\n",
       "       [40, 41, 42, 43, 44, 45, 46, 47, 48, 49],\n",
       "       [50, 51, 52, 53, 54, 55, 56, 57, 58, 59],\n",
       "       [60, 61, 62, 63, 64, 65, 66, 67, 68, 69],\n",
       "       [70, 71, 72, 73, 74, 75, 76, 77, 78, 79],\n",
       "       [80, 81, 82, 83, 84, 85, 86, 87, 88, 89],\n",
       "       [90, 91, 92, 93, 94, 95, 96, 97, 98, 99]])"
      ]
     },
     "execution_count": 33,
     "metadata": {},
     "output_type": "execute_result"
    }
   ],
   "source": [
    "M"
   ]
  },
  {
   "cell_type": "code",
   "execution_count": 46,
   "metadata": {},
   "outputs": [],
   "source": [
    "import typing as tp\n",
    "\n",
    "\n",
    "def tobinary(num):\n",
    "    if num == 0:\n",
    "        return \"0\"\n",
    "    elif (num % 2) == 0:\n",
    "        return tobinary(num//2)+\"0\"\n",
    "    elif (num % 2) == 1:\n",
    "        return tobinary(num//2)+\"1\"\n",
    "\n",
    "\n",
    "def XORSum(self,vector):\n",
    "    pass\n",
    "\n",
    "def subsetXORSum(nums: tp.List[int]) -> int:\n",
    "    if len(nums) == 0:\n",
    "        return 0\n",
    "    for a in nums:\n",
    "        pass"
   ]
  },
  {
   "cell_type": "markdown",
   "metadata": {},
   "source": [
    "# Array of Array Products\n",
    "\n",
    "Given an array of integers `arr`, you’re asked to calculate for each index `i` the product of all integers except the integer at that index (i.e. except `arr[i]`). Implement a function `arrayOfArrayProducts` that takes an array of integers and returns an array of the products.\n",
    "\n",
    "Solve without using division and analyze your solution’s time and space complexities.\n",
    "\n",
    "## Examples\n",
    "\n",
    "```python\n",
    "input:  arr = [8, 10, 2]\n",
    "output: [20, 16, 80] # by calculating: [10*2, 8*2, 8*10]\n",
    "\n",
    "input:  arr = [2, 7, 3, 4]\n",
    "output: [84, 24, 56, 42] # by calculating: [7*3*4, 2*3*4, 2*7*4, 2*7*3]\n",
    "```\n",
    "\n",
    "## Constraints\n",
    "* Time limit: 5000ms\n",
    "* Input: array.integer arr\n",
    "* 0 ≤ arr.length ≤ 20\n",
    "* Output: array.integer"
   ]
  },
  {
   "cell_type": "code",
   "execution_count": 47,
   "metadata": {},
   "outputs": [],
   "source": [
    "import typing as tp\n",
    "# time : o(n**2)\n",
    "# memory: o(n)\n",
    "def array_of_array_products(arr: tp.List[int])-> tp.List[int]:\n",
    "    results = [1] * len(arr)\n",
    "    for i in range(len(arr)):\n",
    "        for j in range(len(arr)):\n",
    "            if j != i:\n",
    "                results[i] *= arr[j]\n",
    "    return results"
   ]
  },
  {
   "cell_type": "code",
   "execution_count": 55,
   "metadata": {},
   "outputs": [
    {
     "name": "stdout",
     "output_type": "stream",
     "text": [
      "[20, 16, 80]\n",
      "[84, 24, 56, 42]\n",
      "[]\n"
     ]
    }
   ],
   "source": [
    "arr = [8,10,2]\n",
    "print(array_of_array_products(arr))\n",
    "arr = [2,7,3,4]\n",
    "print(array_of_array_products(arr))\n",
    "arr = []\n",
    "print(array_of_array_products(arr))"
   ]
  },
  {
   "cell_type": "code",
   "execution_count": 64,
   "metadata": {},
   "outputs": [],
   "source": [
    "def array_of_array_products2(arr: tp.List[int])-> tp.List[int]:\n",
    "    carry = 1\n",
    "    reverse_arr = arr[::-1]\n",
    "    for i in range(len(arr)):\n",
    "        current = arr[i]\n",
    "        arr[i] = carry\n",
    "        carry *= current\n",
    "    \n",
    "    carry = 1\n",
    "    for i in range(len(arr)):\n",
    "        current = reverse_arr[i]\n",
    "        reverse_arr[i] = carry * arr[len(arr)- 1 - i ]\n",
    "        carry *= current\n",
    "\n",
    "\n",
    "    return reverse_arr[::-1]"
   ]
  },
  {
   "cell_type": "code",
   "execution_count": 66,
   "metadata": {},
   "outputs": [
    {
     "name": "stdout",
     "output_type": "stream",
     "text": [
      "[20, 16, 80]\n",
      "[84, 24, 56, 42]\n",
      "[]\n"
     ]
    }
   ],
   "source": [
    "arr = [8,10,2]\n",
    "print(array_of_array_products2(arr))\n",
    "arr = [2,7,3,4]\n",
    "print(array_of_array_products2(arr))\n",
    "arr = []\n",
    "print(array_of_array_products2(arr))"
   ]
  },
  {
   "cell_type": "code",
   "execution_count": 70,
   "metadata": {},
   "outputs": [
    {
     "name": "stdout",
     "output_type": "stream",
     "text": [
      "Time for array_of_array_products: 2.2486090660095215\n",
      "Time for array_of_array_products2: 0.09349393844604492\n"
     ]
    }
   ],
   "source": [
    "import time\n",
    "import random\n",
    "import typing as tp\n",
    "\n",
    "def measure_time(func: tp.Callable, *args, **kwargs) -> float:\n",
    "    start_time = time.time()\n",
    "    func(*args, **kwargs)\n",
    "    end_time = time.time()\n",
    "    return end_time - start_time\n",
    "\n",
    "# Generate a large array of random integers\n",
    "arr = [random.randint(1, 1000) for _ in range(2000)]\n",
    "\n",
    "# Measure the time for the first function\n",
    "time1 = measure_time(array_of_array_products, arr)\n",
    "\n",
    "# Measure the time for the second function\n",
    "time2 = measure_time(array_of_array_products2, arr)\n",
    "\n",
    "print(\"Time for array_of_array_products:\", time1)\n",
    "print(\"Time for array_of_array_products2:\", time2)"
   ]
  },
  {
   "cell_type": "code",
   "execution_count": 82,
   "metadata": {},
   "outputs": [],
   "source": [
    "\n",
    "arr = [random.randint(1, 10) for _ in range(20)]\n",
    "a = array_of_array_products(arr) \n",
    "b = array_of_array_products2(arr)"
   ]
  },
  {
   "cell_type": "code",
   "execution_count": 89,
   "metadata": {},
   "outputs": [
    {
     "data": {
      "text/plain": [
       "[10, 8, 6, 4]"
      ]
     },
     "execution_count": 89,
     "metadata": {},
     "output_type": "execute_result"
    }
   ],
   "source": [
    "list(range(10, 2,-2))"
   ]
  },
  {
   "cell_type": "code",
   "execution_count": 94,
   "metadata": {},
   "outputs": [],
   "source": [
    "import typing as tp\n",
    "# time : o(n**2)\n",
    "# memory: o(n)\n",
    "def array_of_array_products3(arr: tp.List[int])-> tp.List[int]:\n",
    "    n = len(arr)\n",
    "    carry1 = 1\n",
    "    carry2 = 1\n",
    "    for i in range(n):\n",
    "        current1 = arr[i]\n",
    "        current2 = arr[n-1-i]\n",
    "        arr[i] = carry1 if i<(n//2) else arr[i] * carry1\n",
    "        arr[n-1-i] = carry2 if i<(n//2) else arr[n-1-i] * carry2\n",
    "        carry1 *= current1\n",
    "        carry2 *= current2\n",
    "        print(f\"iteration {i}\",arr)\n",
    "    return arr"
   ]
  },
  {
   "cell_type": "code",
   "execution_count": 91,
   "metadata": {},
   "outputs": [
    {
     "name": "stdout",
     "output_type": "stream",
     "text": [
      "[160, 160, 160]\n",
      "[336, 168, 168, 672]\n",
      "[]\n"
     ]
    }
   ],
   "source": [
    "arr = [8,10,2]\n",
    "print(array_of_array_products3(arr))\n",
    "arr = [2,7,3,4]\n",
    "print(array_of_array_products3(arr))\n",
    "arr = []\n",
    "print(array_of_array_products3(arr))"
   ]
  },
  {
   "cell_type": "code",
   "execution_count": 102,
   "metadata": {},
   "outputs": [
    {
     "name": "stdout",
     "output_type": "stream",
     "text": [
      "iteration 0 [1, 7, 3, 4, 8, 3, 2, 1]\n",
      "iteration 1 [1, 2, 3, 4, 8, 3, 1, 1]\n",
      "iteration 2 [1, 2, 14, 4, 8, 2, 1, 1]\n",
      "iteration 3 [1, 2, 14, 42, 6, 2, 1, 1]\n",
      "iteration 4 [1, 2, 14, 2016, 1008, 2, 1, 1]\n",
      "iteration 5 [1, 2, 28224, 2016, 1008, 2016, 1, 1]\n",
      "iteration 6 [1, 56448, 28224, 2016, 1008, 2016, 2016, 1]\n",
      "iteration 7 [56448, 56448, 28224, 2016, 1008, 2016, 2016, 2016]\n",
      "\n",
      " real result:[4032, 1152, 2688, 2016, 1008, 2688, 4032]\n"
     ]
    }
   ],
   "source": [
    "arr = [2,7,3,4,8,3,2,1]\n",
    "array_of_array_products3(arr)\n",
    "print(f\"\\n real result:{array_of_array_products2([2,7,3,4,8,3,2])}\")"
   ]
  },
  {
   "cell_type": "code",
   "execution_count": 99,
   "metadata": {},
   "outputs": [
    {
     "data": {
      "text/plain": [
       "[20, 160, 80]"
      ]
     },
     "execution_count": 99,
     "metadata": {},
     "output_type": "execute_result"
    }
   ],
   "source": [
    "# FLOP(S)"
   ]
  },
  {
   "cell_type": "markdown",
   "metadata": {},
   "source": [
    "## Problem: City Generator\n",
    "\n",
    "### Description:\n",
    "You are tasked with creating a program that generates a simulated city. The city consists of various elements such as buildings, parks, roads, and other infrastructures. Each element has a certain probability of being generated based on predefined weights. Your program should take into account these weights to generate a realistic and diverse city layout.\n",
    "\n",
    "### Input:\n",
    "1. `elements_weights`: A dictionary where the keys are the elements (strings) and the values are the weights (integers) indicating the probability of their occurrence.\n",
    "2. `width`: An integer representing the width of the city grid.\n",
    "3. `height`: An integer representing the height of the city grid.\n",
    "\n",
    "### Output:\n",
    "- A 2D list of strings representing the city, where each cell contains an element from the list based on the weighted probabilities.\n",
    "\n",
    "### Example:\n",
    "```python\n",
    "elements_weights = {\n",
    "    \"Building\": 50,\n",
    "    \"Park\": 20,\n",
    "    \"Road\": 30\n",
    "}\n",
    "width = 5\n",
    "height = 5\n",
    "\n",
    "city = generate_city(elements_weights, width, height)\n",
    "# A possible output could be:\n",
    "# [\n",
    "#    [\"Building\", \"Building\", \"Park\", \"Road\", \"Building\"],\n",
    "#    [\"Road\", \"Building\", \"Building\", \"Park\", \"Building\"],\n",
    "#    [\"Building\", \"Road\", \"Park\", \"Building\", \"Building\"],\n",
    "#    [\"Park\", \"Park\", \"Building\", \"Road\", \"Building\"],\n",
    "#    [\"Building\", \"Building\", \"Building\", \"Building\", \"Park\"]\n",
    "# ]\n",
    "```\n",
    "\n",
    "### Constraints:\n",
    "* The sum of all weights will be positive.\n",
    "* The dimensions of the city grid (width and height) will be positive integers.\n",
    "* Elements will be represented by unique strings.\n",
    "\n",
    "### Function signature \n",
    "```python\n",
    "def generate_city(elements_weights: Dict[str, int], width: int, height: int) -> List[List[str]]:\n",
    "    pass\n",
    "```"
   ]
  },
  {
   "cell_type": "code",
   "execution_count": 13,
   "metadata": {},
   "outputs": [
    {
     "name": "stdout",
     "output_type": "stream",
     "text": [
      "0.17429208755493164\n"
     ]
    }
   ],
   "source": [
    "import typing as tp\n",
    "import random\n",
    "import time\n",
    "\n",
    "def generate_city(elements_weights: tp.Dict[str, int], width: int, height: int) -> tp.List[tp.List[str]]:\n",
    "    probability_dict = {}\n",
    "    sum = 0\n",
    "    for element,weight in elements_weights.items():\n",
    "        sum += weight\n",
    "        probability_dict[element[0]] = sum #we only take the first letter of the object to make the map more readable\n",
    "    \n",
    "    # we generate the map using this probability_dict as a distribution\n",
    "    map = []\n",
    "    for i in range(height):\n",
    "        map.append([])\n",
    "        for j in range(width):\n",
    "            x = random.random() * sum\n",
    "            for element,threshold in probability_dict.items(): # as we built it iteratively, it should already be sorted ascending\n",
    "                if x<threshold:\n",
    "                    map[i].append(element)\n",
    "                    break\n",
    "    return map\n",
    "\n",
    "def binary_search(search_space:tp.List[int], query: float) -> int:\n",
    "    n = len(search_space)\n",
    "    if n == 1:\n",
    "        return search_space[0]\n",
    "    middle = search_space[n // 2]\n",
    "    return  binary_search(search_space[:middle],query) if query < middle else binary_search(search_space[middle:],query)\n",
    "\n",
    "\n",
    "\n",
    "def random_choice(elements_weights: tp.Dict[str, int],k: int):\n",
    "    probability_dict = {}\n",
    "    sum = 0\n",
    "    for element,weight in elements_weights.items():\n",
    "        sum += weight\n",
    "        probability_dict[sum] = element\n",
    "    sums = list(probability_dict.values())\n",
    "\n",
    "    \n",
    "    \n",
    "    samples = []\n",
    "    for sample in samples:\n",
    "\n",
    "\n",
    "\n",
    "\n",
    "    return samples\n",
    "\n",
    "\n",
    "\n",
    "\n",
    "elements_weights = {\n",
    "    \"Building\": 50,\n",
    "    \"Park\": 20,\n",
    "    \"Road\": 30\n",
    "}\n",
    "width = 1000\n",
    "height = 1000\n",
    "\n",
    "map = generate_city(elements_weights,width,height)\n",
    "\n",
    "\n",
    "def measure_time(func: tp.Callable, *args, **kwargs) -> float:\n",
    "    start_time = time.time()\n",
    "    func(*args, **kwargs)\n",
    "    end_time = time.time()\n",
    "    return end_time - start_time\n",
    "\n",
    "print(measure_time(generate_city,elements_weights,width,height))"
   ]
  },
  {
   "cell_type": "code",
   "execution_count": null,
   "metadata": {},
   "outputs": [],
   "source": [
    "import matplotlib.pyplot as plt\n",
    "\n",
    "flatten_map = []\n",
    "for m in map:\n",
    "    flatten_map += m\n"
   ]
  },
  {
   "cell_type": "code",
   "execution_count": 72,
   "metadata": {},
   "outputs": [
    {
     "ename": "IndexError",
     "evalue": "list index out of range",
     "output_type": "error",
     "traceback": [
      "\u001b[0;31m---------------------------------------------------------------------------\u001b[0m",
      "\u001b[0;31mIndexError\u001b[0m                                Traceback (most recent call last)",
      "Cell \u001b[0;32mIn[72], line 17\u001b[0m\n\u001b[1;32m     12\u001b[0m search_space \u001b[38;5;241m=\u001b[39m [\u001b[38;5;241m10\u001b[39m,\u001b[38;5;241m20\u001b[39m,\u001b[38;5;241m50\u001b[39m,\u001b[38;5;241m100\u001b[39m]\n\u001b[1;32m     14\u001b[0m query \u001b[38;5;241m=\u001b[39m \u001b[38;5;241m20.\u001b[39m\n\u001b[0;32m---> 17\u001b[0m \u001b[43mbinary_search\u001b[49m\u001b[43m(\u001b[49m\u001b[43msearch_space\u001b[49m\u001b[43m,\u001b[49m\u001b[43mquery\u001b[49m\u001b[43m)\u001b[49m\n",
      "Cell \u001b[0;32mIn[72], line 9\u001b[0m, in \u001b[0;36mbinary_search\u001b[0;34m(search_space, query)\u001b[0m\n\u001b[1;32m      7\u001b[0m \u001b[38;5;28;01mif\u001b[39;00m n \u001b[38;5;241m==\u001b[39m \u001b[38;5;241m1\u001b[39m:\n\u001b[1;32m      8\u001b[0m     \u001b[38;5;28;01mreturn\u001b[39;00m search_space[\u001b[38;5;241m0\u001b[39m]\n\u001b[0;32m----> 9\u001b[0m \u001b[38;5;28;01mreturn\u001b[39;00m  binary_search(search_space[n\u001b[38;5;241m/\u001b[39m\u001b[38;5;241m/\u001b[39m\u001b[38;5;241m2\u001b[39m \u001b[38;5;241m+\u001b[39m \u001b[38;5;241m1\u001b[39m:],query) \u001b[38;5;28;01mif\u001b[39;00m query \u001b[38;5;241m>\u001b[39m\u001b[38;5;241m=\u001b[39m search_space[n \u001b[38;5;241m/\u001b[39m\u001b[38;5;241m/\u001b[39m \u001b[38;5;241m2\u001b[39m] \u001b[38;5;28;01melse\u001b[39;00m \u001b[43mbinary_search\u001b[49m\u001b[43m(\u001b[49m\u001b[43msearch_space\u001b[49m\u001b[43m[\u001b[49m\u001b[43m:\u001b[49m\u001b[43mn\u001b[49m\u001b[38;5;241;43m/\u001b[39;49m\u001b[38;5;241;43m/\u001b[39;49m\u001b[38;5;241;43m2\u001b[39;49m\u001b[43m]\u001b[49m\u001b[43m,\u001b[49m\u001b[43mquery\u001b[49m\u001b[43m)\u001b[49m\n",
      "Cell \u001b[0;32mIn[72], line 9\u001b[0m, in \u001b[0;36mbinary_search\u001b[0;34m(search_space, query)\u001b[0m\n\u001b[1;32m      7\u001b[0m \u001b[38;5;28;01mif\u001b[39;00m n \u001b[38;5;241m==\u001b[39m \u001b[38;5;241m1\u001b[39m:\n\u001b[1;32m      8\u001b[0m     \u001b[38;5;28;01mreturn\u001b[39;00m search_space[\u001b[38;5;241m0\u001b[39m]\n\u001b[0;32m----> 9\u001b[0m \u001b[38;5;28;01mreturn\u001b[39;00m  \u001b[43mbinary_search\u001b[49m\u001b[43m(\u001b[49m\u001b[43msearch_space\u001b[49m\u001b[43m[\u001b[49m\u001b[43mn\u001b[49m\u001b[38;5;241;43m/\u001b[39;49m\u001b[38;5;241;43m/\u001b[39;49m\u001b[38;5;241;43m2\u001b[39;49m\u001b[43m \u001b[49m\u001b[38;5;241;43m+\u001b[39;49m\u001b[43m \u001b[49m\u001b[38;5;241;43m1\u001b[39;49m\u001b[43m:\u001b[49m\u001b[43m]\u001b[49m\u001b[43m,\u001b[49m\u001b[43mquery\u001b[49m\u001b[43m)\u001b[49m \u001b[38;5;28;01mif\u001b[39;00m query \u001b[38;5;241m>\u001b[39m\u001b[38;5;241m=\u001b[39m search_space[n \u001b[38;5;241m/\u001b[39m\u001b[38;5;241m/\u001b[39m \u001b[38;5;241m2\u001b[39m] \u001b[38;5;28;01melse\u001b[39;00m binary_search(search_space[:n\u001b[38;5;241m/\u001b[39m\u001b[38;5;241m/\u001b[39m\u001b[38;5;241m2\u001b[39m],query)\n",
      "Cell \u001b[0;32mIn[72], line 9\u001b[0m, in \u001b[0;36mbinary_search\u001b[0;34m(search_space, query)\u001b[0m\n\u001b[1;32m      7\u001b[0m \u001b[38;5;28;01mif\u001b[39;00m n \u001b[38;5;241m==\u001b[39m \u001b[38;5;241m1\u001b[39m:\n\u001b[1;32m      8\u001b[0m     \u001b[38;5;28;01mreturn\u001b[39;00m search_space[\u001b[38;5;241m0\u001b[39m]\n\u001b[0;32m----> 9\u001b[0m \u001b[38;5;28;01mreturn\u001b[39;00m  binary_search(search_space[n\u001b[38;5;241m/\u001b[39m\u001b[38;5;241m/\u001b[39m\u001b[38;5;241m2\u001b[39m \u001b[38;5;241m+\u001b[39m \u001b[38;5;241m1\u001b[39m:],query) \u001b[38;5;28;01mif\u001b[39;00m query \u001b[38;5;241m>\u001b[39m\u001b[38;5;241m=\u001b[39m \u001b[43msearch_space\u001b[49m\u001b[43m[\u001b[49m\u001b[43mn\u001b[49m\u001b[43m \u001b[49m\u001b[38;5;241;43m/\u001b[39;49m\u001b[38;5;241;43m/\u001b[39;49m\u001b[43m \u001b[49m\u001b[38;5;241;43m2\u001b[39;49m\u001b[43m]\u001b[49m \u001b[38;5;28;01melse\u001b[39;00m binary_search(search_space[:n\u001b[38;5;241m/\u001b[39m\u001b[38;5;241m/\u001b[39m\u001b[38;5;241m2\u001b[39m],query)\n",
      "\u001b[0;31mIndexError\u001b[0m: list index out of range"
     ]
    }
   ],
   "source": [
    "def binary_search(search_space:tp.List[int], query: float) -> int:\n",
    "    \"\"\"\n",
    "    search_space: an sorted list of int (ascending)\n",
    "    query: the element which we want to compare\n",
    "    \"\"\"\n",
    "    n = len(search_space)\n",
    "    if n == 1:\n",
    "        return search_space[0]\n",
    "    return  binary_search(search_space[n//2 + 1:],query) if query >= search_space[n // 2] else binary_search(search_space[:n//2],query)\n",
    "\n",
    "\n",
    "search_space = [10,20,50,100]\n",
    "\n",
    "query = 20.\n",
    "\n",
    "\n",
    "binary_search(search_space,query)"
   ]
  },
  {
   "cell_type": "markdown",
   "metadata": {},
   "source": []
  },
  {
   "cell_type": "markdown",
   "metadata": {},
   "source": [
    "# 704. Binary Search (leetcode)\n",
    "\n",
    "Given an array of integers `nums` which is sorted in ascending order, and an integer `target`, write a function to search `target` in `nums`. If `target` exists, then return its index. Otherwise, return `-1`.\n",
    "\n",
    "You must write an algorithm with O(log n) runtime complexity.\n",
    "\n",
    "## Example 1:\n",
    "\n",
    "**Input:** \n",
    "```\n",
    "nums = [-1,0,3,5,9,12], target = 9\n",
    "```\n",
    "\n",
    "**Output:** \n",
    "```\n",
    "4\n",
    "```\n",
    "\n",
    "**Explanation:** \n",
    "9 exists in nums and its index is 4.\n",
    "\n",
    "## Example 2:\n",
    "\n",
    "**Input:** \n",
    "```\n",
    "nums = [-1,0,3,5,9,12], target = 2\n",
    "```\n",
    "\n",
    "**Output:** \n",
    "```\n",
    "-1\n",
    "```\n",
    "\n",
    "**Explanation:** \n",
    "2 does not exist in nums so return -1.\n",
    "\n",
    "## Constraints:\n",
    "\n",
    "- `1 <= nums.length <= 10^4`\n",
    "- `-10^4 < nums[i], target < 10^4`\n",
    "- All the integers in `nums` are unique.\n",
    "- `nums` is sorted in ascending order.\n"
   ]
  },
  {
   "cell_type": "code",
   "execution_count": 125,
   "metadata": {},
   "outputs": [
    {
     "data": {
      "text/plain": [
       "-1"
      ]
     },
     "execution_count": 125,
     "metadata": {},
     "output_type": "execute_result"
    }
   ],
   "source": [
    "import typing as tp\n",
    "def search(nums: tp.List[int], target: int) -> int:\n",
    "    if target<nums[0] or target>nums[-1]:\n",
    "        return -1\n",
    "    \n",
    "\n",
    "    n = len(nums)\n",
    "    high = n\n",
    "    low = 0\n",
    "\n",
    "    while True:\n",
    "        middle = (low + high) // 2\n",
    "        if target == nums[middle]:\n",
    "            return middle\n",
    "        elif target < nums[middle]:\n",
    "            if target > nums[middle - 1]:\n",
    "                return -1\n",
    "            high = middle\n",
    "        else:\n",
    "            if target < nums[middle + 1]:\n",
    "                return -1\n",
    "            low = middle\n",
    "\n",
    "    \n",
    "test = [-1,0,3,5,9,12]\n",
    "query = -2\n",
    "\n",
    "search(test,query)"
   ]
  },
  {
   "cell_type": "code",
   "execution_count": 213,
   "metadata": {},
   "outputs": [
    {
     "data": {
      "text/plain": [
       "14"
      ]
     },
     "execution_count": 213,
     "metadata": {},
     "output_type": "execute_result"
    }
   ],
   "source": [
    "def numTrees(n: int) -> int:\n",
    "    if n == 0:\n",
    "        return 1\n",
    "    if n == 1:\n",
    "        return 1\n",
    "    sum = 0\n",
    "    for i in range(1,n+1):\n",
    "        sum += numTrees(i-1) * numTrees(n-i)\n",
    "    return sum\n",
    "\n",
    "n = 4\n",
    "\n",
    "numTrees(n)"
   ]
  },
  {
   "cell_type": "code",
   "execution_count": 128,
   "metadata": {},
   "outputs": [
    {
     "data": {
      "text/plain": [
       "0"
      ]
     },
     "execution_count": 128,
     "metadata": {},
     "output_type": "execute_result"
    }
   ],
   "source": [
    "len(range(1,1))"
   ]
  },
  {
   "cell_type": "code",
   "execution_count": 75,
   "metadata": {},
   "outputs": [
    {
     "name": "stdout",
     "output_type": "stream",
     "text": [
      "ok\n"
     ]
    }
   ],
   "source": [
    "a = 5\n",
    "\n",
    "if a == 4 or a ==5:\n",
    "    print(\"ok\")"
   ]
  },
  {
   "cell_type": "markdown",
   "metadata": {},
   "source": [
    "## FLOPS"
   ]
  },
  {
   "cell_type": "code",
   "execution_count": 1,
   "metadata": {},
   "outputs": [
    {
     "name": "stdout",
     "output_type": "stream",
     "text": [
      "FLOPs: 8200600576\n"
     ]
    }
   ],
   "source": [
    "import torch\n",
    "import torchvision.models as models\n",
    "from torchprofile import profile_macs\n",
    "\n",
    "model = models.resnet50()\n",
    "inputs = torch.randn(1, 3, 224, 224)\n",
    "macs = profile_macs(model, inputs)\n",
    "flops = macs * 2\n",
    "print(f\"FLOPs: {flops}\")"
   ]
  },
  {
   "cell_type": "code",
   "execution_count": null,
   "metadata": {},
   "outputs": [],
   "source": []
  }
 ],
 "metadata": {
  "kernelspec": {
   "display_name": "classic",
   "language": "python",
   "name": "python3"
  },
  "language_info": {
   "codemirror_mode": {
    "name": "ipython",
    "version": 3
   },
   "file_extension": ".py",
   "mimetype": "text/x-python",
   "name": "python",
   "nbconvert_exporter": "python",
   "pygments_lexer": "ipython3",
   "version": "3.12.3"
  }
 },
 "nbformat": 4,
 "nbformat_minor": 2
}
