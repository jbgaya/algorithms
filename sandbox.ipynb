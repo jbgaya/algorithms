{
 "cells": [
  {
   "cell_type": "code",
   "execution_count": 31,
   "metadata": {},
   "outputs": [
    {
     "data": {
      "text/plain": [
       "[0,\n",
       " 1,\n",
       " 2,\n",
       " 3,\n",
       " 4,\n",
       " 5,\n",
       " 6,\n",
       " 7,\n",
       " 8,\n",
       " 9,\n",
       " 19,\n",
       " 29,\n",
       " 39,\n",
       " 49,\n",
       " 59,\n",
       " 69,\n",
       " 79,\n",
       " 89,\n",
       " 99,\n",
       " 98,\n",
       " 97,\n",
       " 96,\n",
       " 95,\n",
       " 94,\n",
       " 93,\n",
       " 92,\n",
       " 91,\n",
       " 90,\n",
       " 80,\n",
       " 70,\n",
       " 60,\n",
       " 50,\n",
       " 40,\n",
       " 30,\n",
       " 20,\n",
       " 10,\n",
       " 11,\n",
       " 12,\n",
       " 13,\n",
       " 14,\n",
       " 15,\n",
       " 16,\n",
       " 17,\n",
       " 18,\n",
       " 28,\n",
       " 38,\n",
       " 48,\n",
       " 58,\n",
       " 68,\n",
       " 78,\n",
       " 88,\n",
       " 87,\n",
       " 86,\n",
       " 85,\n",
       " 84,\n",
       " 83,\n",
       " 82,\n",
       " 81,\n",
       " 71,\n",
       " 61,\n",
       " 51,\n",
       " 41,\n",
       " 31,\n",
       " 21,\n",
       " 22,\n",
       " 23,\n",
       " 24,\n",
       " 25,\n",
       " 26,\n",
       " 27,\n",
       " 37,\n",
       " 47,\n",
       " 57,\n",
       " 67,\n",
       " 77,\n",
       " 76,\n",
       " 75,\n",
       " 74,\n",
       " 73,\n",
       " 72,\n",
       " 62,\n",
       " 52,\n",
       " 42,\n",
       " 32,\n",
       " 33,\n",
       " 34,\n",
       " 35,\n",
       " 36,\n",
       " 46,\n",
       " 56,\n",
       " 66,\n",
       " 65,\n",
       " 64,\n",
       " 63,\n",
       " 53,\n",
       " 43,\n",
       " 44,\n",
       " 45,\n",
       " 55,\n",
       " 54]"
      ]
     },
     "execution_count": 31,
     "metadata": {},
     "output_type": "execute_result"
    }
   ],
   "source": [
    "import random\n",
    "\n",
    "m = 10\n",
    "n = 10\n",
    "\n",
    "M = [[i + (m*j) for i in range(m)] for j in range(n)]\n",
    "\n",
    "def rotate(M):\n",
    "    return [list(row) for row in zip(*M)][::-1]\n",
    "\n",
    "\n",
    "def spiral(M):\n",
    "    if len(M) == 0:\n",
    "        return []\n",
    "    return M[0] + spiral(rotate(M[1:]))\n",
    "\n",
    "spiral(M)"
   ]
  },
  {
   "cell_type": "code",
   "execution_count": 7,
   "metadata": {},
   "outputs": [
    {
     "data": {
      "text/plain": [
       "[(3, 6, 9), (2, 5, 8), (1, 4, 7)]"
      ]
     },
     "execution_count": 7,
     "metadata": {},
     "output_type": "execute_result"
    }
   ],
   "source": [
    "[*zip(*M)][::-1]"
   ]
  },
  {
   "cell_type": "code",
   "execution_count": 32,
   "metadata": {},
   "outputs": [],
   "source": [
    "import numpy as np\n",
    "\n",
    "M = np.array(M)"
   ]
  },
  {
   "cell_type": "code",
   "execution_count": 28,
   "metadata": {},
   "outputs": [
    {
     "data": {
      "text/plain": [
       "[(1, 4, 7), (2, 5, 8), (3, 6, 9)]"
      ]
     },
     "execution_count": 28,
     "metadata": {},
     "output_type": "execute_result"
    }
   ],
   "source": [
    "[*zip(*M)]"
   ]
  },
  {
   "cell_type": "code",
   "execution_count": 33,
   "metadata": {},
   "outputs": [
    {
     "data": {
      "text/plain": [
       "array([[ 0,  1,  2,  3,  4,  5,  6,  7,  8,  9],\n",
       "       [10, 11, 12, 13, 14, 15, 16, 17, 18, 19],\n",
       "       [20, 21, 22, 23, 24, 25, 26, 27, 28, 29],\n",
       "       [30, 31, 32, 33, 34, 35, 36, 37, 38, 39],\n",
       "       [40, 41, 42, 43, 44, 45, 46, 47, 48, 49],\n",
       "       [50, 51, 52, 53, 54, 55, 56, 57, 58, 59],\n",
       "       [60, 61, 62, 63, 64, 65, 66, 67, 68, 69],\n",
       "       [70, 71, 72, 73, 74, 75, 76, 77, 78, 79],\n",
       "       [80, 81, 82, 83, 84, 85, 86, 87, 88, 89],\n",
       "       [90, 91, 92, 93, 94, 95, 96, 97, 98, 99]])"
      ]
     },
     "execution_count": 33,
     "metadata": {},
     "output_type": "execute_result"
    }
   ],
   "source": [
    "M"
   ]
  },
  {
   "cell_type": "code",
   "execution_count": 46,
   "metadata": {},
   "outputs": [],
   "source": [
    "import typing as tp\n",
    "\n",
    "\n",
    "def tobinary(num):\n",
    "    if num == 0:\n",
    "        return \"0\"\n",
    "    elif (num % 2) == 0:\n",
    "        return tobinary(num//2)+\"0\"\n",
    "    elif (num % 2) == 1:\n",
    "        return tobinary(num//2)+\"1\"\n",
    "\n",
    "\n",
    "def XORSum(self,vector):\n",
    "    pass\n",
    "\n",
    "def subsetXORSum(nums: tp.List[int]) -> int:\n",
    "    if len(nums) == 0:\n",
    "        return 0\n",
    "    for a in nums:\n",
    "        pass"
   ]
  },
  {
   "cell_type": "markdown",
   "metadata": {},
   "source": [
    "# Array of Array Products\n",
    "\n",
    "Given an array of integers `arr`, you’re asked to calculate for each index `i` the product of all integers except the integer at that index (i.e. except `arr[i]`). Implement a function `arrayOfArrayProducts` that takes an array of integers and returns an array of the products.\n",
    "\n",
    "Solve without using division and analyze your solution’s time and space complexities.\n",
    "\n",
    "## Examples\n",
    "\n",
    "```python\n",
    "input:  arr = [8, 10, 2]\n",
    "output: [20, 16, 80] # by calculating: [10*2, 8*2, 8*10]\n",
    "\n",
    "input:  arr = [2, 7, 3, 4]\n",
    "output: [84, 24, 56, 42] # by calculating: [7*3*4, 2*3*4, 2*7*4, 2*7*3]\n",
    "```\n",
    "\n",
    "## Constraints\n",
    "* Time limit: 5000ms\n",
    "* Input: array.integer arr\n",
    "* 0 ≤ arr.length ≤ 20\n",
    "* Output: array.integer"
   ]
  },
  {
   "cell_type": "code",
   "execution_count": 47,
   "metadata": {},
   "outputs": [],
   "source": [
    "import typing as tp\n",
    "# time : o(n**2)\n",
    "# memory: o(n)\n",
    "def array_of_array_products(arr: tp.List[int])-> tp.List[int]:\n",
    "    results = [1] * len(arr)\n",
    "    for i in range(len(arr)):\n",
    "        for j in range(len(arr)):\n",
    "            if j != i:\n",
    "                results[i] *= arr[j]\n",
    "    return results"
   ]
  },
  {
   "cell_type": "code",
   "execution_count": 55,
   "metadata": {},
   "outputs": [
    {
     "name": "stdout",
     "output_type": "stream",
     "text": [
      "[20, 16, 80]\n",
      "[84, 24, 56, 42]\n",
      "[]\n"
     ]
    }
   ],
   "source": [
    "arr = [8,10,2]\n",
    "print(array_of_array_products(arr))\n",
    "arr = [2,7,3,4]\n",
    "print(array_of_array_products(arr))\n",
    "arr = []\n",
    "print(array_of_array_products(arr))"
   ]
  },
  {
   "cell_type": "code",
   "execution_count": 64,
   "metadata": {},
   "outputs": [],
   "source": [
    "def array_of_array_products2(arr: tp.List[int])-> tp.List[int]:\n",
    "    carry = 1\n",
    "    reverse_arr = arr[::-1]\n",
    "    for i in range(len(arr)):\n",
    "        current = arr[i]\n",
    "        arr[i] = carry\n",
    "        carry *= current\n",
    "    \n",
    "    carry = 1\n",
    "    for i in range(len(arr)):\n",
    "        current = reverse_arr[i]\n",
    "        reverse_arr[i] = carry * arr[len(arr)- 1 - i ]\n",
    "        carry *= current\n",
    "\n",
    "\n",
    "    return reverse_arr[::-1]"
   ]
  },
  {
   "cell_type": "code",
   "execution_count": 66,
   "metadata": {},
   "outputs": [
    {
     "name": "stdout",
     "output_type": "stream",
     "text": [
      "[20, 16, 80]\n",
      "[84, 24, 56, 42]\n",
      "[]\n"
     ]
    }
   ],
   "source": [
    "arr = [8,10,2]\n",
    "print(array_of_array_products2(arr))\n",
    "arr = [2,7,3,4]\n",
    "print(array_of_array_products2(arr))\n",
    "arr = []\n",
    "print(array_of_array_products2(arr))"
   ]
  },
  {
   "cell_type": "code",
   "execution_count": 70,
   "metadata": {},
   "outputs": [
    {
     "name": "stdout",
     "output_type": "stream",
     "text": [
      "Time for array_of_array_products: 2.2486090660095215\n",
      "Time for array_of_array_products2: 0.09349393844604492\n"
     ]
    }
   ],
   "source": [
    "import time\n",
    "import random\n",
    "import typing as tp\n",
    "\n",
    "def measure_time(func: tp.Callable, *args, **kwargs) -> float:\n",
    "    start_time = time.time()\n",
    "    func(*args, **kwargs)\n",
    "    end_time = time.time()\n",
    "    return end_time - start_time\n",
    "\n",
    "# Generate a large array of random integers\n",
    "arr = [random.randint(1, 1000) for _ in range(2000)]\n",
    "\n",
    "# Measure the time for the first function\n",
    "time1 = measure_time(array_of_array_products, arr)\n",
    "\n",
    "# Measure the time for the second function\n",
    "time2 = measure_time(array_of_array_products2, arr)\n",
    "\n",
    "print(\"Time for array_of_array_products:\", time1)\n",
    "print(\"Time for array_of_array_products2:\", time2)"
   ]
  },
  {
   "cell_type": "code",
   "execution_count": 82,
   "metadata": {},
   "outputs": [],
   "source": [
    "\n",
    "arr = [random.randint(1, 10) for _ in range(20)]\n",
    "a = array_of_array_products(arr) \n",
    "b = array_of_array_products2(arr)"
   ]
  },
  {
   "cell_type": "code",
   "execution_count": 89,
   "metadata": {},
   "outputs": [
    {
     "data": {
      "text/plain": [
       "[10, 8, 6, 4]"
      ]
     },
     "execution_count": 89,
     "metadata": {},
     "output_type": "execute_result"
    }
   ],
   "source": [
    "list(range(10, 2,-2))"
   ]
  },
  {
   "cell_type": "code",
   "execution_count": 94,
   "metadata": {},
   "outputs": [],
   "source": [
    "import typing as tp\n",
    "# time : o(n**2)\n",
    "# memory: o(n)\n",
    "def array_of_array_products3(arr: tp.List[int])-> tp.List[int]:\n",
    "    n = len(arr)\n",
    "    carry1 = 1\n",
    "    carry2 = 1\n",
    "    for i in range(n):\n",
    "        current1 = arr[i]\n",
    "        current2 = arr[n-1-i]\n",
    "        arr[i] = carry1 if i<(n//2) else arr[i] * carry1\n",
    "        arr[n-1-i] = carry2 if i<(n//2) else arr[n-1-i] * carry2\n",
    "        carry1 *= current1\n",
    "        carry2 *= current2\n",
    "        print(f\"iteration {i}\",arr)\n",
    "    return arr"
   ]
  },
  {
   "cell_type": "code",
   "execution_count": 91,
   "metadata": {},
   "outputs": [
    {
     "name": "stdout",
     "output_type": "stream",
     "text": [
      "[160, 160, 160]\n",
      "[336, 168, 168, 672]\n",
      "[]\n"
     ]
    }
   ],
   "source": [
    "arr = [8,10,2]\n",
    "print(array_of_array_products3(arr))\n",
    "arr = [2,7,3,4]\n",
    "print(array_of_array_products3(arr))\n",
    "arr = []\n",
    "print(array_of_array_products3(arr))"
   ]
  },
  {
   "cell_type": "code",
   "execution_count": 102,
   "metadata": {},
   "outputs": [
    {
     "name": "stdout",
     "output_type": "stream",
     "text": [
      "iteration 0 [1, 7, 3, 4, 8, 3, 2, 1]\n",
      "iteration 1 [1, 2, 3, 4, 8, 3, 1, 1]\n",
      "iteration 2 [1, 2, 14, 4, 8, 2, 1, 1]\n",
      "iteration 3 [1, 2, 14, 42, 6, 2, 1, 1]\n",
      "iteration 4 [1, 2, 14, 2016, 1008, 2, 1, 1]\n",
      "iteration 5 [1, 2, 28224, 2016, 1008, 2016, 1, 1]\n",
      "iteration 6 [1, 56448, 28224, 2016, 1008, 2016, 2016, 1]\n",
      "iteration 7 [56448, 56448, 28224, 2016, 1008, 2016, 2016, 2016]\n",
      "\n",
      " real result:[4032, 1152, 2688, 2016, 1008, 2688, 4032]\n"
     ]
    }
   ],
   "source": [
    "arr = [2,7,3,4,8,3,2,1]\n",
    "array_of_array_products3(arr)\n",
    "print(f\"\\n real result:{array_of_array_products2([2,7,3,4,8,3,2])}\")"
   ]
  },
  {
   "cell_type": "code",
   "execution_count": 99,
   "metadata": {},
   "outputs": [
    {
     "data": {
      "text/plain": [
       "[20, 160, 80]"
      ]
     },
     "execution_count": 99,
     "metadata": {},
     "output_type": "execute_result"
    }
   ],
   "source": [
    "arr"
   ]
  },
  {
   "cell_type": "code",
   "execution_count": 1,
   "metadata": {},
   "outputs": [
    {
     "name": "stdout",
     "output_type": "stream",
     "text": [
      "FLOPs: 8200600576\n"
     ]
    }
   ],
   "source": [
    "import torch\n",
    "import torchvision.models as models\n",
    "from torchprofile import profile_macs\n",
    "\n",
    "model = models.resnet50()\n",
    "inputs = torch.randn(1, 3, 224, 224)\n",
    "macs = profile_macs(model, inputs)\n",
    "flops = macs * 2\n",
    "print(f\"FLOPs: {flops}\")"
   ]
  },
  {
   "cell_type": "code",
   "execution_count": null,
   "metadata": {},
   "outputs": [],
   "source": []
  }
 ],
 "metadata": {
  "kernelspec": {
   "display_name": "classic",
   "language": "python",
   "name": "python3"
  },
  "language_info": {
   "codemirror_mode": {
    "name": "ipython",
    "version": 3
   },
   "file_extension": ".py",
   "mimetype": "text/x-python",
   "name": "python",
   "nbconvert_exporter": "python",
   "pygments_lexer": "ipython3",
   "version": "3.12.3"
  }
 },
 "nbformat": 4,
 "nbformat_minor": 2
}
